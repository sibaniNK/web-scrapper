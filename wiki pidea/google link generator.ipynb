{
 "cells": [
  {
   "cell_type": "code",
   "execution_count": 1,
   "id": "e17c5b20",
   "metadata": {},
   "outputs": [],
   "source": [
    "import requests\n",
    "from  bs4 import BeautifulSoup\n"
   ]
  },
  {
   "cell_type": "code",
   "execution_count": 6,
   "id": "f4c53047",
   "metadata": {},
   "outputs": [
    {
     "name": "stdout",
     "output_type": "stream",
     "text": [
      "Enter the topic: subas chandra bose\n"
     ]
    }
   ],
   "source": [
    "title = str(input('Enter the topic: ')).replace(' ','+') # we did replace beacause when you search gindhi ,it will show one page\n",
    "                                                         # having different content and when you add gandhi jii then it will show the actual page of wikipedia\n",
    "link = 'https://www.google.com/search?q=' + title + '+wikipedia'"
   ]
  },
  {
   "cell_type": "code",
   "execution_count": 7,
   "id": "24ddeab0",
   "metadata": {},
   "outputs": [
    {
     "data": {
      "text/plain": [
       "'https://www.google.com/search?q=subas+chandra+bose+wikipedia'"
      ]
     },
     "execution_count": 7,
     "metadata": {},
     "output_type": "execute_result"
    }
   ],
   "source": [
    "link"
   ]
  },
  {
   "cell_type": "code",
   "execution_count": null,
   "id": "03920d8f",
   "metadata": {},
   "outputs": [],
   "source": [
    "# when you searcch tis link in wikipedia ,it will take u to the wikipedia page"
   ]
  }
 ],
 "metadata": {
  "kernelspec": {
   "display_name": "Python 3 (ipykernel)",
   "language": "python",
   "name": "python3"
  },
  "language_info": {
   "codemirror_mode": {
    "name": "ipython",
    "version": 3
   },
   "file_extension": ".py",
   "mimetype": "text/x-python",
   "name": "python",
   "nbconvert_exporter": "python",
   "pygments_lexer": "ipython3",
   "version": "3.11.1"
  }
 },
 "nbformat": 4,
 "nbformat_minor": 5
}
